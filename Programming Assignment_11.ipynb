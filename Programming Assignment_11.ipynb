{
 "cells": [
  {
   "cell_type": "code",
   "execution_count": null,
   "id": "e9ebe0fb",
   "metadata": {},
   "outputs": [],
   "source": [
    "# 1. Write a Python program to find words which are greater than given length k?\n",
    "s = input(\"Enter string \")\n",
    "k = int(input(\"Enter Length of word \"))\n",
    "s = s.split(\" \")\n",
    "for i in s:\n",
    "    if len(i) > k:\n",
    "        print(i)"
   ]
  },
  {
   "cell_type": "code",
   "execution_count": null,
   "id": "6ca16370",
   "metadata": {},
   "outputs": [],
   "source": [
    "# 2. Write a Python program for removing i-th character from a string?\n",
    "s = input(\"Enter string \")\n",
    "i = int(input(\"Enter no of character to delete \"))\n",
    "s1 = s[:i-1]+s[i:]\n",
    "print(s1)"
   ]
  },
  {
   "cell_type": "code",
   "execution_count": null,
   "id": "21718a47",
   "metadata": {},
   "outputs": [],
   "source": [
    "# 3. Write a Python program to split and join a string?\n",
    "s = input(\"Enter string \")\n",
    "k = input(\"Enter parameter to split \")\n",
    "s1 = s.split(k)\n",
    "print(\"Splited string is \",s1)\n",
    "s2 = \"\"\n",
    "for i in range(len(s1)):\n",
    "    if i != len(s1) -1:\n",
    "        s2 = s2  + s1[i] + k\n",
    "    else:\n",
    "        s2 = s2 + s1[i]\n",
    "print(\"Joined string is \" , s2)"
   ]
  },
  {
   "cell_type": "code",
   "execution_count": null,
   "id": "98598644",
   "metadata": {},
   "outputs": [],
   "source": [
    "# 4. Write a Python to check if a given string is binary string or not?\n",
    "s = input(\"Enter string \")\n",
    "s1 = {\"0\",\"1\"}\n",
    "s2 = set(s)\n",
    "if s2 == s1 or s2 == {\"1\"} or s2 == {\"0\"}:\n",
    "    print(\"It is a binary string\")\n",
    "else:\n",
    "    print(\"It os not a binary string\")"
   ]
  },
  {
   "cell_type": "code",
   "execution_count": null,
   "id": "9232611f",
   "metadata": {},
   "outputs": [],
   "source": [
    "# 5. Write a Python program to find uncommon words from two Strings?\n",
    "s1 = input(\"Enter string 1 \")\n",
    "s2 = input(\"Enter string 2 \")\n",
    "count = {}\n",
    "for i in s1.split():\n",
    "    count[i] = count.get(i , 0) + 1\n",
    "for i in s2.split():\n",
    "    count[i] = count.get(i , 0) + 1\n",
    "for i in count:\n",
    "    if count[i] == 1:\n",
    "        print(i)"
   ]
  },
  {
   "cell_type": "code",
   "execution_count": null,
   "id": "c8de5e73",
   "metadata": {},
   "outputs": [],
   "source": [
    "# 6. Write a Python to find all duplicate characters in string?\n",
    "s1 = input(\"Enter string \")\n",
    "count = {}\n",
    "for i in s1:\n",
    "    count[i] = count.get(i , 0) + 1\n",
    "for i in count:\n",
    "    if count[i] > 1:\n",
    "        print(i)"
   ]
  },
  {
   "cell_type": "code",
   "execution_count": null,
   "id": "6ec58a04",
   "metadata": {},
   "outputs": [],
   "source": [
    "# 7. Write a Python Program to check if a string contains any special character?\n",
    "s1 = input(\"Enter string \")\n",
    "if s1.isalnum():\n",
    "    print(\"It does not contain special characters\")\n",
    "else:\n",
    "    print(\"It contains special characters\")"
   ]
  },
  {
   "cell_type": "code",
   "execution_count": null,
   "id": "0b564233",
   "metadata": {},
   "outputs": [],
   "source": []
  }
 ],
 "metadata": {
  "kernelspec": {
   "display_name": "Python 3 (ipykernel)",
   "language": "python",
   "name": "python3"
  },
  "language_info": {
   "codemirror_mode": {
    "name": "ipython",
    "version": 3
   },
   "file_extension": ".py",
   "mimetype": "text/x-python",
   "name": "python",
   "nbconvert_exporter": "python",
   "pygments_lexer": "ipython3",
   "version": "3.9.12"
  }
 },
 "nbformat": 4,
 "nbformat_minor": 5
}
